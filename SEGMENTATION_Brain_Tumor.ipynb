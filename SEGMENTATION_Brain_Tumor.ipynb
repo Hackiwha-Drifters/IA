{
  "cells": [
    {
      "cell_type": "code",
      "execution_count": null,
      "metadata": {
        "colab": {
          "base_uri": "https://localhost:8080/"
        },
        "id": "spIBRj7uJ3Kb",
        "outputId": "c1305a28-f847-4ddc-c63a-2718c2a9c80f"
      },
      "outputs": [
        {
          "output_type": "stream",
          "name": "stdout",
          "text": [
            "Requirement already satisfied: kaggle in /usr/local/lib/python3.10/dist-packages (1.5.16)\n",
            "Requirement already satisfied: six>=1.10 in /usr/local/lib/python3.10/dist-packages (from kaggle) (1.16.0)\n",
            "Requirement already satisfied: certifi in /usr/local/lib/python3.10/dist-packages (from kaggle) (2024.2.2)\n",
            "Requirement already satisfied: python-dateutil in /usr/local/lib/python3.10/dist-packages (from kaggle) (2.8.2)\n",
            "Requirement already satisfied: requests in /usr/local/lib/python3.10/dist-packages (from kaggle) (2.31.0)\n",
            "Requirement already satisfied: tqdm in /usr/local/lib/python3.10/dist-packages (from kaggle) (4.66.2)\n",
            "Requirement already satisfied: python-slugify in /usr/local/lib/python3.10/dist-packages (from kaggle) (8.0.4)\n",
            "Requirement already satisfied: urllib3 in /usr/local/lib/python3.10/dist-packages (from kaggle) (2.0.7)\n",
            "Requirement already satisfied: bleach in /usr/local/lib/python3.10/dist-packages (from kaggle) (6.1.0)\n",
            "Requirement already satisfied: webencodings in /usr/local/lib/python3.10/dist-packages (from bleach->kaggle) (0.5.1)\n",
            "Requirement already satisfied: text-unidecode>=1.3 in /usr/local/lib/python3.10/dist-packages (from python-slugify->kaggle) (1.3)\n",
            "Requirement already satisfied: charset-normalizer<4,>=2 in /usr/local/lib/python3.10/dist-packages (from requests->kaggle) (3.3.2)\n",
            "Requirement already satisfied: idna<4,>=2.5 in /usr/local/lib/python3.10/dist-packages (from requests->kaggle) (3.6)\n"
          ]
        }
      ],
      "source": [
        "!pip install kaggle"
      ]
    },
    {
      "cell_type": "code",
      "execution_count": null,
      "metadata": {
        "id": "LR81yZ2VKLpi",
        "colab": {
          "base_uri": "https://localhost:8080/"
        },
        "outputId": "b965514a-b89a-49cf-95d7-1f92ccb43b3c"
      },
      "outputs": [
        {
          "output_type": "stream",
          "name": "stdout",
          "text": [
            "Mounted at /content/gdrive\n"
          ]
        }
      ],
      "source": [
        "from google.colab import drive\n",
        "drive.mount('/content/gdrive')"
      ]
    },
    {
      "cell_type": "code",
      "execution_count": null,
      "metadata": {
        "id": "8Qu3e5fKKXqw"
      },
      "outputs": [],
      "source": [
        "!cp \"/content/gdrive/My Drive/kaggle.json\" ~/.kaggle/"
      ]
    },
    {
      "cell_type": "code",
      "execution_count": null,
      "metadata": {
        "id": "4cHBPPRXQcm9"
      },
      "outputs": [],
      "source": [
        "!chmod 600 /content/gdrive/MyDrive/kaggle.json"
      ]
    },
    {
      "cell_type": "code",
      "execution_count": null,
      "metadata": {
        "colab": {
          "base_uri": "https://localhost:8080/"
        },
        "id": "Ufp5_Gr4PqmQ",
        "outputId": "d5859032-e871-456e-8e32-8244e3100bad"
      },
      "outputs": [
        {
          "output_type": "stream",
          "name": "stdout",
          "text": [
            "Downloading brain-tumor-segmentation.zip to /content\n",
            " 94% 293M/312M [00:03<00:00, 107MB/s]\n",
            "100% 312M/312M [00:03<00:00, 96.8MB/s]\n"
          ]
        }
      ],
      "source": [
        "!kaggle datasets download -d nikhilroxtomar/brain-tumor-segmentation"
      ]
    },
    {
      "cell_type": "code",
      "execution_count": null,
      "metadata": {
        "id": "81ziVdTMRS0s"
      },
      "outputs": [],
      "source": [
        "!unzip -q \"/content/brain-tumor-segmentation.zip\" -d \"/content/dataset\""
      ]
    },
    {
      "cell_type": "code",
      "execution_count": null,
      "metadata": {
        "id": "pI7U0Hm0Rglz"
      },
      "outputs": [],
      "source": [
        "#import libraries\n",
        "\n",
        "import os\n",
        "os.environ[\"TF_CPP_MIN_LOG_LEVEL\"] = \"2\"\n",
        "\n",
        "import numpy as np\n",
        "import cv2\n",
        "from glob import glob\n",
        "import seaborn as sns\n",
        "import matplotlib.pyplot as plt\n",
        "from sklearn.utils import shuffle\n",
        "import tensorflow as tf\n",
        "from tensorflow.keras import backend as K\n",
        "from tensorflow.keras.callbacks import ModelCheckpoint, CSVLogger\n",
        "from tensorflow.keras.callbacks import ReduceLROnPlateau, EarlyStopping, TensorBoard\n",
        "from tensorflow.keras.optimizers import Adam\n",
        "from sklearn.model_selection import train_test_split\n",
        "from tensorflow.keras.utils import CustomObjectScope\n",
        "from sklearn.metrics import f1_score, jaccard_score, precision_score, recall_score\n",
        "from tensorflow.keras.layers import Dropout\n",
        "\n",
        "from tensorflow.keras.layers import Conv2D, BatchNormalization, Activation\n",
        "from tensorflow.keras.layers import MaxPool2D, Conv2DTranspose, Concatenate, Input\n",
        "from tensorflow.keras.models import Model"
      ]
    },
    {
      "cell_type": "code",
      "execution_count": null,
      "metadata": {
        "id": "3pkUhTq7Rqxg"
      },
      "outputs": [],
      "source": [
        "#each time we generate random number they areb gona be equal to this\n",
        "np.random.seed(42)"
      ]
    },
    {
      "cell_type": "code",
      "execution_count": null,
      "metadata": {
        "id": "dSbH492nSgl6"
      },
      "outputs": [],
      "source": [
        "#define\n",
        "def conv_block(inputs, num_filters, dropout_rate=0.2):\n",
        "    x = Conv2D(num_filters, 3, padding=\"same\")(inputs)\n",
        "    x = BatchNormalization()(x)\n",
        "    x = Activation(\"relu\")(x)\n",
        "    x = Dropout(dropout_rate)(x)\n",
        "\n",
        "    x = Conv2D(num_filters, 3, padding=\"same\")(x)\n",
        "    x = BatchNormalization()(x)\n",
        "    x = Activation(\"relu\")(x)\n",
        "    x = Dropout(dropout_rate)(x)\n",
        "\n",
        "    return x\n",
        "\n",
        "def encoder_block(inputs, num_filters, dropout_rate=0.2):\n",
        "    x = conv_block(inputs, num_filters, dropout_rate)\n",
        "    p = MaxPool2D((2, 2))(x)\n",
        "    return x, p\n",
        "\n",
        "def decoder_block(inputs, skip_features, num_filters, dropout_rate=0.2):\n",
        "    x = Conv2DTranspose(num_filters, 2, strides=2, padding=\"same\")(inputs)\n",
        "    x = Concatenate()([x, skip_features])\n",
        "    x = conv_block(x, num_filters, dropout_rate)\n",
        "    return x\n",
        "\n",
        "\n",
        "smooth = 1e-15\n",
        "def dice_coef(y_true, y_pred):\n",
        "    y_true = tf.keras.layers.Flatten()(y_true)\n",
        "    y_pred = tf.keras.layers.Flatten()(y_pred)\n",
        "    intersection = tf.reduce_sum(y_true * y_pred)\n",
        "    return (2. * intersection + smooth) / (tf.reduce_sum(y_true) + tf.reduce_sum(y_pred) + smooth)\n",
        "\n",
        "def dice_loss(y_true, y_pred):\n",
        "    return 1.0 - dice_coef(y_true, y_pred)"
      ]
    },
    {
      "cell_type": "code",
      "execution_count": null,
      "metadata": {
        "id": "k84lcIB9S4tl",
        "colab": {
          "base_uri": "https://localhost:8080/"
        },
        "outputId": "8b19d4a6-4beb-4d6d-d834-270bbeae8ea0"
      },
      "outputs": [
        {
          "output_type": "stream",
          "name": "stdout",
          "text": [
            "Model: \"UNET\"\n",
            "__________________________________________________________________________________________________\n",
            " Layer (type)                Output Shape                 Param #   Connected to                  \n",
            "==================================================================================================\n",
            " input_1 (InputLayer)        [(None, 256, 256, 3)]        0         []                            \n",
            "                                                                                                  \n",
            " conv2d (Conv2D)             (None, 256, 256, 16)         448       ['input_1[0][0]']             \n",
            "                                                                                                  \n",
            " batch_normalization (Batch  (None, 256, 256, 16)         64        ['conv2d[0][0]']              \n",
            " Normalization)                                                                                   \n",
            "                                                                                                  \n",
            " activation (Activation)     (None, 256, 256, 16)         0         ['batch_normalization[0][0]'] \n",
            "                                                                                                  \n",
            " dropout (Dropout)           (None, 256, 256, 16)         0         ['activation[0][0]']          \n",
            "                                                                                                  \n",
            " conv2d_1 (Conv2D)           (None, 256, 256, 16)         2320      ['dropout[0][0]']             \n",
            "                                                                                                  \n",
            " batch_normalization_1 (Bat  (None, 256, 256, 16)         64        ['conv2d_1[0][0]']            \n",
            " chNormalization)                                                                                 \n",
            "                                                                                                  \n",
            " activation_1 (Activation)   (None, 256, 256, 16)         0         ['batch_normalization_1[0][0]'\n",
            "                                                                    ]                             \n",
            "                                                                                                  \n",
            " dropout_1 (Dropout)         (None, 256, 256, 16)         0         ['activation_1[0][0]']        \n",
            "                                                                                                  \n",
            " max_pooling2d (MaxPooling2  (None, 128, 128, 16)         0         ['dropout_1[0][0]']           \n",
            " D)                                                                                               \n",
            "                                                                                                  \n",
            " conv2d_2 (Conv2D)           (None, 128, 128, 32)         4640      ['max_pooling2d[0][0]']       \n",
            "                                                                                                  \n",
            " batch_normalization_2 (Bat  (None, 128, 128, 32)         128       ['conv2d_2[0][0]']            \n",
            " chNormalization)                                                                                 \n",
            "                                                                                                  \n",
            " activation_2 (Activation)   (None, 128, 128, 32)         0         ['batch_normalization_2[0][0]'\n",
            "                                                                    ]                             \n",
            "                                                                                                  \n",
            " dropout_2 (Dropout)         (None, 128, 128, 32)         0         ['activation_2[0][0]']        \n",
            "                                                                                                  \n",
            " conv2d_3 (Conv2D)           (None, 128, 128, 32)         9248      ['dropout_2[0][0]']           \n",
            "                                                                                                  \n",
            " batch_normalization_3 (Bat  (None, 128, 128, 32)         128       ['conv2d_3[0][0]']            \n",
            " chNormalization)                                                                                 \n",
            "                                                                                                  \n",
            " activation_3 (Activation)   (None, 128, 128, 32)         0         ['batch_normalization_3[0][0]'\n",
            "                                                                    ]                             \n",
            "                                                                                                  \n",
            " dropout_3 (Dropout)         (None, 128, 128, 32)         0         ['activation_3[0][0]']        \n",
            "                                                                                                  \n",
            " max_pooling2d_1 (MaxPoolin  (None, 64, 64, 32)           0         ['dropout_3[0][0]']           \n",
            " g2D)                                                                                             \n",
            "                                                                                                  \n",
            " conv2d_4 (Conv2D)           (None, 64, 64, 64)           18496     ['max_pooling2d_1[0][0]']     \n",
            "                                                                                                  \n",
            " batch_normalization_4 (Bat  (None, 64, 64, 64)           256       ['conv2d_4[0][0]']            \n",
            " chNormalization)                                                                                 \n",
            "                                                                                                  \n",
            " activation_4 (Activation)   (None, 64, 64, 64)           0         ['batch_normalization_4[0][0]'\n",
            "                                                                    ]                             \n",
            "                                                                                                  \n",
            " dropout_4 (Dropout)         (None, 64, 64, 64)           0         ['activation_4[0][0]']        \n",
            "                                                                                                  \n",
            " conv2d_5 (Conv2D)           (None, 64, 64, 64)           36928     ['dropout_4[0][0]']           \n",
            "                                                                                                  \n",
            " batch_normalization_5 (Bat  (None, 64, 64, 64)           256       ['conv2d_5[0][0]']            \n",
            " chNormalization)                                                                                 \n",
            "                                                                                                  \n",
            " activation_5 (Activation)   (None, 64, 64, 64)           0         ['batch_normalization_5[0][0]'\n",
            "                                                                    ]                             \n",
            "                                                                                                  \n",
            " dropout_5 (Dropout)         (None, 64, 64, 64)           0         ['activation_5[0][0]']        \n",
            "                                                                                                  \n",
            " max_pooling2d_2 (MaxPoolin  (None, 32, 32, 64)           0         ['dropout_5[0][0]']           \n",
            " g2D)                                                                                             \n",
            "                                                                                                  \n",
            " conv2d_6 (Conv2D)           (None, 32, 32, 128)          73856     ['max_pooling2d_2[0][0]']     \n",
            "                                                                                                  \n",
            " batch_normalization_6 (Bat  (None, 32, 32, 128)          512       ['conv2d_6[0][0]']            \n",
            " chNormalization)                                                                                 \n",
            "                                                                                                  \n",
            " activation_6 (Activation)   (None, 32, 32, 128)          0         ['batch_normalization_6[0][0]'\n",
            "                                                                    ]                             \n",
            "                                                                                                  \n",
            " dropout_6 (Dropout)         (None, 32, 32, 128)          0         ['activation_6[0][0]']        \n",
            "                                                                                                  \n",
            " conv2d_7 (Conv2D)           (None, 32, 32, 128)          147584    ['dropout_6[0][0]']           \n",
            "                                                                                                  \n",
            " batch_normalization_7 (Bat  (None, 32, 32, 128)          512       ['conv2d_7[0][0]']            \n",
            " chNormalization)                                                                                 \n",
            "                                                                                                  \n",
            " activation_7 (Activation)   (None, 32, 32, 128)          0         ['batch_normalization_7[0][0]'\n",
            "                                                                    ]                             \n",
            "                                                                                                  \n",
            " dropout_7 (Dropout)         (None, 32, 32, 128)          0         ['activation_7[0][0]']        \n",
            "                                                                                                  \n",
            " max_pooling2d_3 (MaxPoolin  (None, 16, 16, 128)          0         ['dropout_7[0][0]']           \n",
            " g2D)                                                                                             \n",
            "                                                                                                  \n",
            " conv2d_8 (Conv2D)           (None, 16, 16, 256)          295168    ['max_pooling2d_3[0][0]']     \n",
            "                                                                                                  \n",
            " batch_normalization_8 (Bat  (None, 16, 16, 256)          1024      ['conv2d_8[0][0]']            \n",
            " chNormalization)                                                                                 \n",
            "                                                                                                  \n",
            " activation_8 (Activation)   (None, 16, 16, 256)          0         ['batch_normalization_8[0][0]'\n",
            "                                                                    ]                             \n",
            "                                                                                                  \n",
            " dropout_8 (Dropout)         (None, 16, 16, 256)          0         ['activation_8[0][0]']        \n",
            "                                                                                                  \n",
            " conv2d_9 (Conv2D)           (None, 16, 16, 256)          590080    ['dropout_8[0][0]']           \n",
            "                                                                                                  \n",
            " batch_normalization_9 (Bat  (None, 16, 16, 256)          1024      ['conv2d_9[0][0]']            \n",
            " chNormalization)                                                                                 \n",
            "                                                                                                  \n",
            " activation_9 (Activation)   (None, 16, 16, 256)          0         ['batch_normalization_9[0][0]'\n",
            "                                                                    ]                             \n",
            "                                                                                                  \n",
            " dropout_9 (Dropout)         (None, 16, 16, 256)          0         ['activation_9[0][0]']        \n",
            "                                                                                                  \n",
            " conv2d_transpose (Conv2DTr  (None, 32, 32, 128)          131200    ['dropout_9[0][0]']           \n",
            " anspose)                                                                                         \n",
            "                                                                                                  \n",
            " concatenate (Concatenate)   (None, 32, 32, 256)          0         ['conv2d_transpose[0][0]',    \n",
            "                                                                     'dropout_7[0][0]']           \n",
            "                                                                                                  \n",
            " conv2d_10 (Conv2D)          (None, 32, 32, 128)          295040    ['concatenate[0][0]']         \n",
            "                                                                                                  \n",
            " batch_normalization_10 (Ba  (None, 32, 32, 128)          512       ['conv2d_10[0][0]']           \n",
            " tchNormalization)                                                                                \n",
            "                                                                                                  \n",
            " activation_10 (Activation)  (None, 32, 32, 128)          0         ['batch_normalization_10[0][0]\n",
            "                                                                    ']                            \n",
            "                                                                                                  \n",
            " dropout_10 (Dropout)        (None, 32, 32, 128)          0         ['activation_10[0][0]']       \n",
            "                                                                                                  \n",
            " conv2d_11 (Conv2D)          (None, 32, 32, 128)          147584    ['dropout_10[0][0]']          \n",
            "                                                                                                  \n",
            " batch_normalization_11 (Ba  (None, 32, 32, 128)          512       ['conv2d_11[0][0]']           \n",
            " tchNormalization)                                                                                \n",
            "                                                                                                  \n",
            " activation_11 (Activation)  (None, 32, 32, 128)          0         ['batch_normalization_11[0][0]\n",
            "                                                                    ']                            \n",
            "                                                                                                  \n",
            " dropout_11 (Dropout)        (None, 32, 32, 128)          0         ['activation_11[0][0]']       \n",
            "                                                                                                  \n",
            " conv2d_transpose_1 (Conv2D  (None, 64, 64, 64)           32832     ['dropout_11[0][0]']          \n",
            " Transpose)                                                                                       \n",
            "                                                                                                  \n",
            " concatenate_1 (Concatenate  (None, 64, 64, 128)          0         ['conv2d_transpose_1[0][0]',  \n",
            " )                                                                   'dropout_5[0][0]']           \n",
            "                                                                                                  \n",
            " conv2d_12 (Conv2D)          (None, 64, 64, 64)           73792     ['concatenate_1[0][0]']       \n",
            "                                                                                                  \n",
            " batch_normalization_12 (Ba  (None, 64, 64, 64)           256       ['conv2d_12[0][0]']           \n",
            " tchNormalization)                                                                                \n",
            "                                                                                                  \n",
            " activation_12 (Activation)  (None, 64, 64, 64)           0         ['batch_normalization_12[0][0]\n",
            "                                                                    ']                            \n",
            "                                                                                                  \n",
            " dropout_12 (Dropout)        (None, 64, 64, 64)           0         ['activation_12[0][0]']       \n",
            "                                                                                                  \n",
            " conv2d_13 (Conv2D)          (None, 64, 64, 64)           36928     ['dropout_12[0][0]']          \n",
            "                                                                                                  \n",
            " batch_normalization_13 (Ba  (None, 64, 64, 64)           256       ['conv2d_13[0][0]']           \n",
            " tchNormalization)                                                                                \n",
            "                                                                                                  \n",
            " activation_13 (Activation)  (None, 64, 64, 64)           0         ['batch_normalization_13[0][0]\n",
            "                                                                    ']                            \n",
            "                                                                                                  \n",
            " dropout_13 (Dropout)        (None, 64, 64, 64)           0         ['activation_13[0][0]']       \n",
            "                                                                                                  \n",
            " conv2d_transpose_2 (Conv2D  (None, 128, 128, 32)         8224      ['dropout_13[0][0]']          \n",
            " Transpose)                                                                                       \n",
            "                                                                                                  \n",
            " concatenate_2 (Concatenate  (None, 128, 128, 64)         0         ['conv2d_transpose_2[0][0]',  \n",
            " )                                                                   'dropout_3[0][0]']           \n",
            "                                                                                                  \n",
            " conv2d_14 (Conv2D)          (None, 128, 128, 32)         18464     ['concatenate_2[0][0]']       \n",
            "                                                                                                  \n",
            " batch_normalization_14 (Ba  (None, 128, 128, 32)         128       ['conv2d_14[0][0]']           \n",
            " tchNormalization)                                                                                \n",
            "                                                                                                  \n",
            " activation_14 (Activation)  (None, 128, 128, 32)         0         ['batch_normalization_14[0][0]\n",
            "                                                                    ']                            \n",
            "                                                                                                  \n",
            " dropout_14 (Dropout)        (None, 128, 128, 32)         0         ['activation_14[0][0]']       \n",
            "                                                                                                  \n",
            " conv2d_15 (Conv2D)          (None, 128, 128, 32)         9248      ['dropout_14[0][0]']          \n",
            "                                                                                                  \n",
            " batch_normalization_15 (Ba  (None, 128, 128, 32)         128       ['conv2d_15[0][0]']           \n",
            " tchNormalization)                                                                                \n",
            "                                                                                                  \n",
            " activation_15 (Activation)  (None, 128, 128, 32)         0         ['batch_normalization_15[0][0]\n",
            "                                                                    ']                            \n",
            "                                                                                                  \n",
            " dropout_15 (Dropout)        (None, 128, 128, 32)         0         ['activation_15[0][0]']       \n",
            "                                                                                                  \n",
            " conv2d_transpose_3 (Conv2D  (None, 256, 256, 16)         2064      ['dropout_15[0][0]']          \n",
            " Transpose)                                                                                       \n",
            "                                                                                                  \n",
            " concatenate_3 (Concatenate  (None, 256, 256, 32)         0         ['conv2d_transpose_3[0][0]',  \n",
            " )                                                                   'dropout_1[0][0]']           \n",
            "                                                                                                  \n",
            " conv2d_16 (Conv2D)          (None, 256, 256, 16)         4624      ['concatenate_3[0][0]']       \n",
            "                                                                                                  \n",
            " batch_normalization_16 (Ba  (None, 256, 256, 16)         64        ['conv2d_16[0][0]']           \n",
            " tchNormalization)                                                                                \n",
            "                                                                                                  \n",
            " activation_16 (Activation)  (None, 256, 256, 16)         0         ['batch_normalization_16[0][0]\n",
            "                                                                    ']                            \n",
            "                                                                                                  \n",
            " dropout_16 (Dropout)        (None, 256, 256, 16)         0         ['activation_16[0][0]']       \n",
            "                                                                                                  \n",
            " conv2d_17 (Conv2D)          (None, 256, 256, 16)         2320      ['dropout_16[0][0]']          \n",
            "                                                                                                  \n",
            " batch_normalization_17 (Ba  (None, 256, 256, 16)         64        ['conv2d_17[0][0]']           \n",
            " tchNormalization)                                                                                \n",
            "                                                                                                  \n",
            " activation_17 (Activation)  (None, 256, 256, 16)         0         ['batch_normalization_17[0][0]\n",
            "                                                                    ']                            \n",
            "                                                                                                  \n",
            " dropout_17 (Dropout)        (None, 256, 256, 16)         0         ['activation_17[0][0]']       \n",
            "                                                                                                  \n",
            " conv2d_18 (Conv2D)          (None, 256, 256, 1)          17        ['dropout_17[0][0]']          \n",
            "                                                                                                  \n",
            "==================================================================================================\n",
            "Total params: 1946993 (7.43 MB)\n",
            "Trainable params: 1944049 (7.42 MB)\n",
            "Non-trainable params: 2944 (11.50 KB)\n",
            "__________________________________________________________________________________________________\n"
          ]
        }
      ],
      "source": [
        "\n",
        "\n",
        "\n",
        "def unet(input_shape, num_filters=16, dropout_rate=0.2):\n",
        "    inputs = Input(input_shape)\n",
        "\n",
        "    s1, p1 = encoder_block(inputs, num_filters, dropout_rate)\n",
        "    s2, p2 = encoder_block(p1, num_filters * 2, dropout_rate)\n",
        "    s3, p3 = encoder_block(p2, num_filters * 4, dropout_rate)\n",
        "    s4, p4 = encoder_block(p3, num_filters * 8, dropout_rate)\n",
        "\n",
        "    b1 = conv_block(p4, num_filters * 16, dropout_rate)\n",
        "\n",
        "    d1 = decoder_block(b1, s4, num_filters * 8, dropout_rate)\n",
        "    d2 = decoder_block(d1, s3, num_filters * 4, dropout_rate)\n",
        "    d3 = decoder_block(d2, s2, num_filters * 2, dropout_rate)\n",
        "    d4 = decoder_block(d3, s1, num_filters, dropout_rate)\n",
        "\n",
        "    outputs = Conv2D(1, 1, padding=\"same\", activation=\"sigmoid\")(d4)\n",
        "\n",
        "    model = Model(inputs, outputs, name=\"UNET\")\n",
        "    return model\n",
        "\n",
        "model = unet((256,256,3), num_filters=16, dropout_rate=0.2)\n",
        "# Plot the model architecture\n",
        "#plot_model(model, to_file=\"unet_model.png\", show_shapes=True, show_layer_names=True)\n",
        "model.summary()"
      ]
    },
    {
      "cell_type": "code",
      "execution_count": null,
      "metadata": {
        "id": "B3JudHv3Tkig"
      },
      "outputs": [],
      "source": [
        "#image size\n",
        "H = 256\n",
        "W = 256\n",
        "\n",
        "#fct to upload data\n",
        "def create_dir(path):\n",
        "    if not os.path.exists(path):\n",
        "        os.makedirs(path)\n",
        "create_dir(\"files\")\n",
        "\n",
        "def load_dataset(path, split=0.2, load_half=False):\n",
        "    images = sorted(glob(os.path.join(path, \"images\", \"*.png\")))\n",
        "    masks = sorted(glob(os.path.join(path, \"masks\", \"*.png\")))\n",
        "\n",
        "    if load_half:\n",
        "        # we didnt take the all data cuz we cant train it all (no time / no good materiel )\n",
        "        data_size = len(images) // 4\n",
        "        images = images[:data_size]\n",
        "        masks = masks[:data_size]\n",
        "        split_size = int(len(images) * split)\n",
        "    else:\n",
        "        # Load the entire dataset\n",
        "        split_size = int(len(images) * split)\n",
        "\n",
        "    train_x, valid_x = train_test_split(images, test_size=split_size, random_state=42)\n",
        "    train_y, valid_y = train_test_split(masks, test_size=split_size, random_state=42)\n",
        "\n",
        "    train_x, test_x = train_test_split(train_x, test_size=split_size, random_state=42)\n",
        "    train_y, test_y = train_test_split(train_y, test_size=split_size, random_state=42)\n",
        "\n",
        "\n",
        "\n",
        "    return (train_x, train_y), (valid_x, valid_y), (test_x, test_y)\n",
        "\n"
      ]
    },
    {
      "cell_type": "code",
      "execution_count": null,
      "metadata": {
        "id": "POLHIyjnUvRF"
      },
      "outputs": [],
      "source": [
        "def read_image(path):\n",
        "    path = path.decode()\n",
        "    x = cv2.imread(path, cv2.IMREAD_COLOR)\n",
        "    x = cv2.resize(x, (W, H))\n",
        "    x = x / 255.0\n",
        "    x = x.astype(np.float32)\n",
        "    return x\n",
        "\n",
        "def read_mask(path):\n",
        "    path = path.decode()\n",
        "    x = cv2.imread(path, cv2.IMREAD_GRAYSCALE)  ## (h, w)\n",
        "    x = cv2.resize(x, (W, H))   ## (h, w)\n",
        "    x = x / 255.0               ## (h, w)\n",
        "    x = x.astype(np.float32)    ## (h, w)\n",
        "    x = np.expand_dims(x, axis=-1)## (h, w, 1)\n",
        "    return x"
      ]
    },
    {
      "cell_type": "code",
      "execution_count": null,
      "metadata": {
        "id": "5BvQZaZ5VIH3"
      },
      "outputs": [],
      "source": [
        "def tf_parse(x, y):\n",
        "    def _parse(x, y):\n",
        "        x = read_image(x)\n",
        "        y = read_mask(y)\n",
        "        return x, y\n",
        "\n",
        "    x, y = tf.numpy_function(_parse, [x, y], [tf.float32, tf.float32])\n",
        "    x.set_shape([H, W, 3])\n",
        "    y.set_shape([H, W, 1])\n",
        "    return x, y\n",
        "\n",
        "\n",
        "def tf_dataset(X, Y, batch=2):\n",
        "    dataset = tf.data.Dataset.from_tensor_slices((X, Y))\n",
        "    dataset = dataset.map(tf_parse)\n",
        "    dataset = dataset.batch(batch)\n",
        "    dataset = dataset.prefetch(10)\n",
        "    return dataset"
      ]
    },
    {
      "cell_type": "code",
      "execution_count": null,
      "metadata": {
        "id": "mofMSqaIWNOW"
      },
      "outputs": [],
      "source": [
        "\n",
        "lr = 1e-4\n",
        "batch_size = 8\n",
        "num_epochs = 30\n",
        "model_path = os.path.join(\"files\", \"model.h5\")\n",
        "csv_path = os.path.join(\"files\", \"log.csv\")\n",
        "dataset_path=\"/content/dataset\""
      ]
    },
    {
      "cell_type": "code",
      "execution_count": null,
      "metadata": {
        "colab": {
          "base_uri": "https://localhost:8080/"
        },
        "id": "4D8Qp-H4Yc52",
        "outputId": "e4d9793c-150c-4a7b-bded-68c0045c684e"
      },
      "outputs": [
        {
          "output_type": "stream",
          "name": "stdout",
          "text": [
            "Train: (1840,1840)\n",
            "Valid: (612,612)\n",
            "Test: (612,612)\n"
          ]
        }
      ],
      "source": [
        "(train_x, train_y), (valid_x, valid_y), (test_x, test_y) = load_dataset(dataset_path)\n",
        "\n",
        "print(f\"Train: ({len(train_x)},{len(train_y)})\")\n",
        "print(f\"Valid: ({len(valid_x)},{len(valid_x)})\")\n",
        "print(f\"Test: ({len(test_x)},{len(test_x)})\")"
      ]
    },
    {
      "cell_type": "code",
      "execution_count": null,
      "metadata": {
        "id": "oTMidZ0kYl9W"
      },
      "outputs": [],
      "source": [
        "train_dataset = tf_dataset(train_x, train_y, batch=batch_size)\n",
        "valid_dataset = tf_dataset(valid_x, valid_y, batch=batch_size)\n"
      ]
    },
    {
      "cell_type": "code",
      "execution_count": null,
      "metadata": {
        "id": "j7I2WXHwYsha"
      },
      "outputs": [],
      "source": [
        "model = unet((H, W, 3))\n",
        "model.compile(loss=dice_loss, optimizer=Adam(lr), metrics=[dice_coef,'accuracy'])"
      ]
    },
    {
      "cell_type": "code",
      "execution_count": null,
      "metadata": {
        "id": "ejqI01AtZCvq"
      },
      "outputs": [],
      "source": [
        "callbacks = [\n",
        "        ModelCheckpoint(model_path, verbose=1, save_best_only=True),\n",
        "        ReduceLROnPlateau(monitor='val_loss', factor=0.1, patience=5, min_lr=1e-7, verbose=1),\n",
        "        CSVLogger(csv_path),\n",
        "        EarlyStopping(monitor='val_loss', patience=20, restore_best_weights=False),\n",
        "    ]"
      ]
    },
    {
      "cell_type": "code",
      "execution_count": null,
      "metadata": {
        "colab": {
          "base_uri": "https://localhost:8080/"
        },
        "id": "C__Y3Hw6ZI6m",
        "outputId": "ce20f9dd-b34d-459a-d0c8-7caca56aa2ee"
      },
      "outputs": [
        {
          "output_type": "stream",
          "name": "stdout",
          "text": [
            "Epoch 1/30\n",
            "230/230 [==============================] - ETA: 0s - loss: 0.9423 - dice_coef: 0.0577 - accuracy: 0.5484\n",
            "Epoch 1: val_loss improved from inf to 0.96278, saving model to files/model.h5\n"
          ]
        },
        {
          "output_type": "stream",
          "name": "stderr",
          "text": [
            "/usr/local/lib/python3.10/dist-packages/keras/src/engine/training.py:3103: UserWarning: You are saving your model as an HDF5 file via `model.save()`. This file format is considered legacy. We recommend using instead the native Keras format, e.g. `model.save('my_model.keras')`.\n",
            "  saving_api.save_model(\n"
          ]
        },
        {
          "output_type": "stream",
          "name": "stdout",
          "text": [
            "\b\b\b\b\b\b\b\b\b\b\b\b\b\b\b\b\b\b\b\b\b\b\b\b\b\b\b\b\b\b\b\b\b\b\b\b\b\b\b\b\b\b\b\b\b\b\b\b\b\b\b\b\b\b\b\b\b\b\b\b\b\b\b\b\b\b\b\b\b\b\b\b\b\b\b\b\b\b\b\b\b\b\b\b\b\b\b\b\b\b\b\b\b\b\b\b\b\b\b\b\b\b\b\b\r230/230 [==============================] - 50s 166ms/step - loss: 0.9423 - dice_coef: 0.0577 - accuracy: 0.5484 - val_loss: 0.9628 - val_dice_coef: 0.0372 - val_accuracy: 0.9822 - lr: 1.0000e-04\n",
            "Epoch 2/30\n",
            "230/230 [==============================] - ETA: 0s - loss: 0.9168 - dice_coef: 0.0832 - accuracy: 0.8203\n",
            "Epoch 2: val_loss improved from 0.96278 to 0.96209, saving model to files/model.h5\n",
            "230/230 [==============================] - 38s 163ms/step - loss: 0.9168 - dice_coef: 0.0832 - accuracy: 0.8203 - val_loss: 0.9621 - val_dice_coef: 0.0379 - val_accuracy: 0.9819 - lr: 1.0000e-04\n",
            "Epoch 3/30\n",
            "230/230 [==============================] - ETA: 0s - loss: 0.9045 - dice_coef: 0.0955 - accuracy: 0.8700\n",
            "Epoch 3: val_loss did not improve from 0.96209\n",
            "230/230 [==============================] - 37s 161ms/step - loss: 0.9045 - dice_coef: 0.0955 - accuracy: 0.8700 - val_loss: 0.9640 - val_dice_coef: 0.0360 - val_accuracy: 0.9813 - lr: 1.0000e-04\n",
            "Epoch 4/30\n",
            "230/230 [==============================] - ETA: 0s - loss: 0.8936 - dice_coef: 0.1064 - accuracy: 0.8891\n",
            "Epoch 4: val_loss did not improve from 0.96209\n",
            "230/230 [==============================] - 37s 160ms/step - loss: 0.8936 - dice_coef: 0.1064 - accuracy: 0.8891 - val_loss: 0.9634 - val_dice_coef: 0.0366 - val_accuracy: 0.9822 - lr: 1.0000e-04\n",
            "Epoch 5/30\n",
            "230/230 [==============================] - ETA: 0s - loss: 0.8793 - dice_coef: 0.1207 - accuracy: 0.9133\n",
            "Epoch 5: val_loss did not improve from 0.96209\n",
            "230/230 [==============================] - 37s 159ms/step - loss: 0.8793 - dice_coef: 0.1207 - accuracy: 0.9133 - val_loss: 0.9642 - val_dice_coef: 0.0358 - val_accuracy: 0.9820 - lr: 1.0000e-04\n",
            "Epoch 6/30\n",
            "230/230 [==============================] - ETA: 0s - loss: 0.8545 - dice_coef: 0.1455 - accuracy: 0.9435\n",
            "Epoch 6: val_loss did not improve from 0.96209\n",
            "230/230 [==============================] - 37s 161ms/step - loss: 0.8545 - dice_coef: 0.1455 - accuracy: 0.9435 - val_loss: 0.9658 - val_dice_coef: 0.0342 - val_accuracy: 0.9825 - lr: 1.0000e-04\n",
            "Epoch 7/30\n",
            "230/230 [==============================] - ETA: 0s - loss: 0.8308 - dice_coef: 0.1692 - accuracy: 0.9566\n",
            "Epoch 7: val_loss improved from 0.96209 to 0.95287, saving model to files/model.h5\n",
            "230/230 [==============================] - 37s 161ms/step - loss: 0.8308 - dice_coef: 0.1692 - accuracy: 0.9566 - val_loss: 0.9529 - val_dice_coef: 0.0471 - val_accuracy: 0.9830 - lr: 1.0000e-04\n",
            "Epoch 8/30\n",
            "230/230 [==============================] - ETA: 0s - loss: 0.8052 - dice_coef: 0.1948 - accuracy: 0.9651\n",
            "Epoch 8: val_loss improved from 0.95287 to 0.93178, saving model to files/model.h5\n",
            "230/230 [==============================] - 37s 161ms/step - loss: 0.8052 - dice_coef: 0.1948 - accuracy: 0.9651 - val_loss: 0.9318 - val_dice_coef: 0.0682 - val_accuracy: 0.9835 - lr: 1.0000e-04\n",
            "Epoch 9/30\n",
            "230/230 [==============================] - ETA: 0s - loss: 0.7668 - dice_coef: 0.2332 - accuracy: 0.9741\n",
            "Epoch 9: val_loss improved from 0.93178 to 0.91693, saving model to files/model.h5\n",
            "230/230 [==============================] - 37s 161ms/step - loss: 0.7668 - dice_coef: 0.2332 - accuracy: 0.9741 - val_loss: 0.9169 - val_dice_coef: 0.0829 - val_accuracy: 0.9835 - lr: 1.0000e-04\n",
            "Epoch 10/30\n",
            "230/230 [==============================] - ETA: 0s - loss: 0.7313 - dice_coef: 0.2687 - accuracy: 0.9792\n",
            "Epoch 10: val_loss did not improve from 0.91693\n",
            "230/230 [==============================] - 35s 153ms/step - loss: 0.7313 - dice_coef: 0.2687 - accuracy: 0.9792 - val_loss: 0.9400 - val_dice_coef: 0.0599 - val_accuracy: 0.9830 - lr: 1.0000e-04\n",
            "Epoch 11/30\n",
            "230/230 [==============================] - ETA: 0s - loss: 0.6950 - dice_coef: 0.3050 - accuracy: 0.9817\n",
            "Epoch 11: val_loss did not improve from 0.91693\n",
            "230/230 [==============================] - 36s 155ms/step - loss: 0.6950 - dice_coef: 0.3050 - accuracy: 0.9817 - val_loss: 0.9345 - val_dice_coef: 0.0655 - val_accuracy: 0.9829 - lr: 1.0000e-04\n",
            "Epoch 12/30\n",
            "230/230 [==============================] - ETA: 0s - loss: 0.6586 - dice_coef: 0.3414 - accuracy: 0.9835\n",
            "Epoch 12: val_loss improved from 0.91693 to 0.89932, saving model to files/model.h5\n",
            "230/230 [==============================] - 37s 161ms/step - loss: 0.6586 - dice_coef: 0.3414 - accuracy: 0.9835 - val_loss: 0.8993 - val_dice_coef: 0.1004 - val_accuracy: 0.9833 - lr: 1.0000e-04\n",
            "Epoch 13/30\n",
            "230/230 [==============================] - ETA: 0s - loss: 0.6210 - dice_coef: 0.3790 - accuracy: 0.9854\n",
            "Epoch 13: val_loss improved from 0.89932 to 0.84527, saving model to files/model.h5\n",
            "230/230 [==============================] - 36s 158ms/step - loss: 0.6210 - dice_coef: 0.3790 - accuracy: 0.9854 - val_loss: 0.8453 - val_dice_coef: 0.1545 - val_accuracy: 0.9835 - lr: 1.0000e-04\n",
            "Epoch 14/30\n",
            "230/230 [==============================] - ETA: 0s - loss: 0.5866 - dice_coef: 0.4134 - accuracy: 0.9867\n",
            "Epoch 14: val_loss improved from 0.84527 to 0.82579, saving model to files/model.h5\n",
            "230/230 [==============================] - 37s 161ms/step - loss: 0.5866 - dice_coef: 0.4134 - accuracy: 0.9867 - val_loss: 0.8258 - val_dice_coef: 0.1737 - val_accuracy: 0.9832 - lr: 1.0000e-04\n",
            "Epoch 15/30\n",
            "230/230 [==============================] - ETA: 0s - loss: 0.5500 - dice_coef: 0.4500 - accuracy: 0.9881\n",
            "Epoch 15: val_loss improved from 0.82579 to 0.75018, saving model to files/model.h5\n",
            "230/230 [==============================] - 36s 154ms/step - loss: 0.5500 - dice_coef: 0.4500 - accuracy: 0.9881 - val_loss: 0.7502 - val_dice_coef: 0.2495 - val_accuracy: 0.9847 - lr: 1.0000e-04\n",
            "Epoch 16/30\n",
            "230/230 [==============================] - ETA: 0s - loss: 0.5178 - dice_coef: 0.4822 - accuracy: 0.9891\n",
            "Epoch 16: val_loss did not improve from 0.75018\n",
            "230/230 [==============================] - 36s 156ms/step - loss: 0.5178 - dice_coef: 0.4822 - accuracy: 0.9891 - val_loss: 0.8523 - val_dice_coef: 0.1477 - val_accuracy: 0.9827 - lr: 1.0000e-04\n",
            "Epoch 17/30\n",
            "230/230 [==============================] - ETA: 0s - loss: 0.4871 - dice_coef: 0.5129 - accuracy: 0.9897\n",
            "Epoch 17: val_loss improved from 0.75018 to 0.72923, saving model to files/model.h5\n",
            "230/230 [==============================] - 37s 161ms/step - loss: 0.4871 - dice_coef: 0.5129 - accuracy: 0.9897 - val_loss: 0.7292 - val_dice_coef: 0.2700 - val_accuracy: 0.9840 - lr: 1.0000e-04\n",
            "Epoch 18/30\n",
            "230/230 [==============================] - ETA: 0s - loss: 0.4588 - dice_coef: 0.5412 - accuracy: 0.9904\n",
            "Epoch 18: val_loss improved from 0.72923 to 0.69937, saving model to files/model.h5\n",
            "230/230 [==============================] - 37s 162ms/step - loss: 0.4588 - dice_coef: 0.5412 - accuracy: 0.9904 - val_loss: 0.6994 - val_dice_coef: 0.3002 - val_accuracy: 0.9852 - lr: 1.0000e-04\n",
            "Epoch 19/30\n",
            "230/230 [==============================] - ETA: 0s - loss: 0.4309 - dice_coef: 0.5691 - accuracy: 0.9910\n",
            "Epoch 19: val_loss did not improve from 0.69937\n",
            "230/230 [==============================] - 35s 154ms/step - loss: 0.4309 - dice_coef: 0.5691 - accuracy: 0.9910 - val_loss: 0.7439 - val_dice_coef: 0.2555 - val_accuracy: 0.9844 - lr: 1.0000e-04\n",
            "Epoch 20/30\n",
            "230/230 [==============================] - ETA: 0s - loss: 0.4074 - dice_coef: 0.5926 - accuracy: 0.9913\n",
            "Epoch 20: val_loss did not improve from 0.69937\n",
            "230/230 [==============================] - 37s 160ms/step - loss: 0.4074 - dice_coef: 0.5926 - accuracy: 0.9913 - val_loss: 0.7182 - val_dice_coef: 0.2814 - val_accuracy: 0.9848 - lr: 1.0000e-04\n",
            "Epoch 21/30\n",
            "230/230 [==============================] - ETA: 0s - loss: 0.3868 - dice_coef: 0.6132 - accuracy: 0.9917\n",
            "Epoch 21: val_loss improved from 0.69937 to 0.69015, saving model to files/model.h5\n",
            "230/230 [==============================] - 37s 161ms/step - loss: 0.3868 - dice_coef: 0.6132 - accuracy: 0.9917 - val_loss: 0.6902 - val_dice_coef: 0.3088 - val_accuracy: 0.9851 - lr: 1.0000e-04\n",
            "Epoch 22/30\n",
            "230/230 [==============================] - ETA: 0s - loss: 0.3603 - dice_coef: 0.6397 - accuracy: 0.9923\n",
            "Epoch 22: val_loss improved from 0.69015 to 0.65548, saving model to files/model.h5\n",
            "230/230 [==============================] - 37s 161ms/step - loss: 0.3603 - dice_coef: 0.6397 - accuracy: 0.9923 - val_loss: 0.6555 - val_dice_coef: 0.3438 - val_accuracy: 0.9853 - lr: 1.0000e-04\n",
            "Epoch 23/30\n",
            "230/230 [==============================] - ETA: 0s - loss: 0.3453 - dice_coef: 0.6547 - accuracy: 0.9924\n",
            "Epoch 23: val_loss did not improve from 0.65548\n",
            "230/230 [==============================] - 37s 161ms/step - loss: 0.3453 - dice_coef: 0.6547 - accuracy: 0.9924 - val_loss: 0.6933 - val_dice_coef: 0.3059 - val_accuracy: 0.9849 - lr: 1.0000e-04\n",
            "Epoch 24/30\n",
            "230/230 [==============================] - ETA: 0s - loss: 0.3257 - dice_coef: 0.6743 - accuracy: 0.9927\n",
            "Epoch 24: val_loss improved from 0.65548 to 0.61513, saving model to files/model.h5\n",
            "230/230 [==============================] - 37s 162ms/step - loss: 0.3257 - dice_coef: 0.6743 - accuracy: 0.9927 - val_loss: 0.6151 - val_dice_coef: 0.3840 - val_accuracy: 0.9858 - lr: 1.0000e-04\n",
            "Epoch 25/30\n",
            "230/230 [==============================] - ETA: 0s - loss: 0.3103 - dice_coef: 0.6897 - accuracy: 0.9930\n",
            "Epoch 25: val_loss improved from 0.61513 to 0.54629, saving model to files/model.h5\n",
            "230/230 [==============================] - 36s 154ms/step - loss: 0.3103 - dice_coef: 0.6897 - accuracy: 0.9930 - val_loss: 0.5463 - val_dice_coef: 0.4527 - val_accuracy: 0.9868 - lr: 1.0000e-04\n",
            "Epoch 26/30\n",
            "230/230 [==============================] - ETA: 0s - loss: 0.2985 - dice_coef: 0.7015 - accuracy: 0.9930\n",
            "Epoch 26: val_loss did not improve from 0.54629\n",
            "230/230 [==============================] - 36s 154ms/step - loss: 0.2985 - dice_coef: 0.7015 - accuracy: 0.9930 - val_loss: 0.7172 - val_dice_coef: 0.2824 - val_accuracy: 0.9846 - lr: 1.0000e-04\n",
            "Epoch 27/30\n",
            "230/230 [==============================] - ETA: 0s - loss: 0.2824 - dice_coef: 0.7176 - accuracy: 0.9934\n",
            "Epoch 27: val_loss did not improve from 0.54629\n",
            "230/230 [==============================] - 37s 160ms/step - loss: 0.2824 - dice_coef: 0.7176 - accuracy: 0.9934 - val_loss: 0.5963 - val_dice_coef: 0.4024 - val_accuracy: 0.9862 - lr: 1.0000e-04\n",
            "Epoch 28/30\n",
            "230/230 [==============================] - ETA: 0s - loss: 0.2694 - dice_coef: 0.7306 - accuracy: 0.9934\n",
            "Epoch 28: val_loss did not improve from 0.54629\n",
            "230/230 [==============================] - 36s 157ms/step - loss: 0.2694 - dice_coef: 0.7306 - accuracy: 0.9934 - val_loss: 0.6187 - val_dice_coef: 0.3807 - val_accuracy: 0.9850 - lr: 1.0000e-04\n",
            "Epoch 29/30\n",
            "230/230 [==============================] - ETA: 0s - loss: 0.2579 - dice_coef: 0.7421 - accuracy: 0.9937\n",
            "Epoch 29: val_loss improved from 0.54629 to 0.52560, saving model to files/model.h5\n",
            "230/230 [==============================] - 35s 154ms/step - loss: 0.2579 - dice_coef: 0.7421 - accuracy: 0.9937 - val_loss: 0.5256 - val_dice_coef: 0.4736 - val_accuracy: 0.9870 - lr: 1.0000e-04\n",
            "Epoch 30/30\n",
            "230/230 [==============================] - ETA: 0s - loss: 0.2485 - dice_coef: 0.7515 - accuracy: 0.9938\n",
            "Epoch 30: val_loss improved from 0.52560 to 0.51862, saving model to files/model.h5\n",
            "230/230 [==============================] - 35s 154ms/step - loss: 0.2485 - dice_coef: 0.7515 - accuracy: 0.9938 - val_loss: 0.5186 - val_dice_coef: 0.4805 - val_accuracy: 0.9871 - lr: 1.0000e-04\n"
          ]
        },
        {
          "output_type": "execute_result",
          "data": {
            "text/plain": [
              "<keras.src.callbacks.History at 0x788c25e40ee0>"
            ]
          },
          "metadata": {},
          "execution_count": 41
        }
      ],
      "source": [
        "model.fit(\n",
        "        train_dataset,\n",
        "        epochs=num_epochs,\n",
        "        validation_data=valid_dataset,\n",
        "        callbacks=callbacks,\n",
        "        verbose=1,\n",
        "    )"
      ]
    },
    {
      "cell_type": "code",
      "source": [
        "model.save('brainTumor20epochsBinary.h5')"
      ],
      "metadata": {
        "colab": {
          "base_uri": "https://localhost:8080/"
        },
        "id": "lsbUwYTmkAm6",
        "outputId": "93ad67bb-a4eb-46a3-a3ea-82241d71d424"
      },
      "execution_count": null,
      "outputs": [
        {
          "output_type": "stream",
          "name": "stderr",
          "text": [
            "WARNING:tensorflow:Compiled the loaded model, but the compiled metrics have yet to be built. `model.compile_metrics` will be empty until you train or evaluate the model.\n"
          ]
        }
      ]
    },
    {
      "cell_type": "code",
      "source": [
        "# Load the U-Net model and weights\n",
        "model = unet((256, 256, 3))\n",
        "model.load_weights('/content/files/model.h5')  # Replace with the actual path\n",
        "\n",
        "# Load and preprocess the test image\n",
        "test_image = plt.imread('/content/sick.jpg')  # Replace with the actual path\n",
        "test_image =  cv2.resize(test_image, (W, H))\n",
        "test_image = np.expand_dims(test_image, axis=0)  # Add batch dimension\n",
        "test_image = test_image / 255.0  # Normalize pixel values\n",
        "\n",
        "# Make predictions\n",
        "\n",
        "predictions = model.predict(test_image)\n",
        "\n",
        "# Post-process the predicted mask (you might need to adjust this based on your task)\n",
        "threshold = 0.5\n",
        "binary_mask = (predictions > threshold).astype(np.uint8)\n",
        "\n",
        "# Visualize the results\n",
        "plt.subplot(1, 2, 1)\n",
        "plt.imshow(test_image[0])\n",
        "plt.title('Original Image')\n",
        "\n",
        "plt.subplot(1, 2, 2)\n",
        "plt.imshow(binary_mask[0, :, :, 0], cmap='gray')\n",
        "plt.title('Predicted Segmentation Mask')\n",
        "\n",
        "plt.show()"
      ],
      "metadata": {
        "id": "sVbqUFdV4FbV",
        "colab": {
          "base_uri": "https://localhost:8080/",
          "height": 325
        },
        "outputId": "2a7ce11b-1292-4f50-94ee-e6d23b4fc647"
      },
      "execution_count": null,
      "outputs": [
        {
          "output_type": "stream",
          "name": "stdout",
          "text": [
            "1/1 [==============================] - 0s 385ms/step\n"
          ]
        },
        {
          "output_type": "display_data",
          "data": {
            "text/plain": [
              "<Figure size 640x480 with 2 Axes>"
            ],
            "image/png": "[encoded data removed]"
          },
          "metadata": {}
        }
      ]
    }
  ],
  "metadata": {
    "colab": {
      "provenance": [],
      "gpuType": "T4",
      "toc_visible": true
    },
    "kernelspec": {
      "display_name": "Python 3",
      "name": "python3"
    },
    "language_info": {
      "name": "python"
    },
    "accelerator": "GPU"
  },
  "nbformat": 4,
  "nbformat_minor": 0
}